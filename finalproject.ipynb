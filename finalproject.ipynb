{
 "cells": [
  {
   "cell_type": "code",
   "execution_count": 1,
   "metadata": {},
   "outputs": [],
   "source": [
    "path1 = \".//Datafiniti_Hotel_Reviews_Jun19.csv\"\n",
    "path2 = \".//Datafiniti_Hotel_Reviews.csv\""
   ]
  },
  {
   "cell_type": "code",
   "execution_count": 2,
   "metadata": {},
   "outputs": [],
   "source": [
    "import time\n",
    "start = time.time()\n",
    "# Import modules\n",
    "import pandas as pd\n",
    "from scipy import sparse\n",
    "from sklearn.feature_extraction.text import TfidfVectorizer, CountVectorizer\n",
    "from sklearn.ensemble import RandomForestClassifier\n",
    "from sklearn.model_selection import train_test_split\n",
    "from sklearn.metrics import accuracy_score, confusion_matrix\n",
    "import re\n",
    "import pickle"
   ]
  },
  {
   "cell_type": "code",
   "execution_count": 21,
   "metadata": {},
   "outputs": [],
   "source": [
    "df1 = pd.read_csv(path1)\n",
    "df1.drop(columns={'reviews.dateAdded'},inplace= True)\n",
    "df2 = pd.read_csv(path2)\n",
    "mydata = pd.concat([df1,df2])"
   ]
  },
  {
   "cell_type": "code",
   "execution_count": 24,
   "metadata": {},
   "outputs": [],
   "source": [
    "# Important columns. City, Country, and Province columns are excluded because they are not reliable\n",
    "imp_col_list = ['address', 'name', 'reviews.date', 'reviews.text','reviews.title']\n",
    "mydatasub = mydata.loc[:,imp_col_list]"
   ]
  },
  {
   "cell_type": "code",
   "execution_count": 25,
   "metadata": {},
   "outputs": [],
   "source": [
    "# Prep text, add some columns and fillna, and rename columns\n",
    "mydatasub['reviews.text'] = mydatasub['reviews.text'].str.lower()\n",
    "mydatasub['reviews.text'] = mydatasub['reviews.text'].replace(to_replace='[^A-Za-z0-9]+', regex=True, value=' ')\n",
    "mydatasub['reviews.text'] = mydatasub['reviews.text'].fillna('')\n",
    "mydatasub['review_date'] = pd.to_datetime(mydatasub['reviews.date']).dt.date\n",
    "mydatasub['review_month'] = pd.to_datetime(mydatasub['reviews.date']).dt.month\n",
    "mydatasub['words_in_review'] = [len(i.split()) for i in mydatasub['reviews.text']]\n",
    "season_dict = {1:'Winter',2:'Winter',3:'Spring',4:'Spring',5:'Spring',6:'Summer',\n",
    "               7:'Summer',8:'Summer',9:'Fall',10:'Fall',11:'Fall',12:'Winter'}\n",
    "mydatasub['review_season'] = mydatasub['review_month'].map(season_dict).fillna('Summer')\n",
    "mydatasub.rename(columns={'address': 'hotel_address', 'city': 'hotel_city','country':'hotel_country', \n",
    "                   'name':'hotel_name'},inplace=True)"
   ]
  },
  {
   "cell_type": "code",
   "execution_count": 27,
   "metadata": {},
   "outputs": [
    {
     "data": {
      "text/html": [
       "<div>\n",
       "<style scoped>\n",
       "    .dataframe tbody tr th:only-of-type {\n",
       "        vertical-align: middle;\n",
       "    }\n",
       "\n",
       "    .dataframe tbody tr th {\n",
       "        vertical-align: top;\n",
       "    }\n",
       "\n",
       "    .dataframe thead th {\n",
       "        text-align: right;\n",
       "    }\n",
       "</style>\n",
       "<table border=\"1\" class=\"dataframe\">\n",
       "  <thead>\n",
       "    <tr style=\"text-align: right;\">\n",
       "      <th></th>\n",
       "      <th>hotel_address</th>\n",
       "      <th>hotel_name</th>\n",
       "      <th>reviews.date</th>\n",
       "      <th>reviews.text</th>\n",
       "      <th>reviews.title</th>\n",
       "      <th>review_date</th>\n",
       "      <th>review_month</th>\n",
       "      <th>words_in_review</th>\n",
       "      <th>review_season</th>\n",
       "    </tr>\n",
       "  </thead>\n",
       "  <tbody>\n",
       "    <tr>\n",
       "      <th>0</th>\n",
       "      <td>5620 Calle Real</td>\n",
       "      <td>Best Western Plus South Coast Inn</td>\n",
       "      <td>2018-01-01T00:00:00.000Z</td>\n",
       "      <td>this hotel was nice and quiet did not know the...</td>\n",
       "      <td>Best Western Plus Hotel</td>\n",
       "      <td>2018-01-01</td>\n",
       "      <td>1</td>\n",
       "      <td>39</td>\n",
       "      <td>Winter</td>\n",
       "    </tr>\n",
       "    <tr>\n",
       "      <th>1</th>\n",
       "      <td>5th And San Carlos PO Box 3574</td>\n",
       "      <td>Best Western Carmel's Town House Lodge</td>\n",
       "      <td>2016-04-02T00:00:00Z</td>\n",
       "      <td>we stayed in the king suite with the separatio...</td>\n",
       "      <td>Clean rooms at solid rates in the heart of Carmel</td>\n",
       "      <td>2016-04-02</td>\n",
       "      <td>4</td>\n",
       "      <td>62</td>\n",
       "      <td>Spring</td>\n",
       "    </tr>\n",
       "    <tr>\n",
       "      <th>2</th>\n",
       "      <td>5th And San Carlos PO Box 3574</td>\n",
       "      <td>Best Western Carmel's Town House Lodge</td>\n",
       "      <td>2016-01-06T00:00:00Z</td>\n",
       "      <td>parking was horrible somebody ran into my rent...</td>\n",
       "      <td>Business</td>\n",
       "      <td>2016-01-06</td>\n",
       "      <td>1</td>\n",
       "      <td>55</td>\n",
       "      <td>Winter</td>\n",
       "    </tr>\n",
       "  </tbody>\n",
       "</table>\n",
       "</div>"
      ],
      "text/plain": [
       "                    hotel_address                              hotel_name  \\\n",
       "0                 5620 Calle Real       Best Western Plus South Coast Inn   \n",
       "1  5th And San Carlos PO Box 3574  Best Western Carmel's Town House Lodge   \n",
       "2  5th And San Carlos PO Box 3574  Best Western Carmel's Town House Lodge   \n",
       "\n",
       "               reviews.date  \\\n",
       "0  2018-01-01T00:00:00.000Z   \n",
       "1      2016-04-02T00:00:00Z   \n",
       "2      2016-01-06T00:00:00Z   \n",
       "\n",
       "                                        reviews.text  \\\n",
       "0  this hotel was nice and quiet did not know the...   \n",
       "1  we stayed in the king suite with the separatio...   \n",
       "2  parking was horrible somebody ran into my rent...   \n",
       "\n",
       "                                       reviews.title review_date  \\\n",
       "0                            Best Western Plus Hotel  2018-01-01   \n",
       "1  Clean rooms at solid rates in the heart of Carmel  2016-04-02   \n",
       "2                                           Business  2016-01-06   \n",
       "\n",
       "   review_month  words_in_review review_season  \n",
       "0             1               39        Winter  \n",
       "1             4               62        Spring  \n",
       "2             1               55        Winter  "
      ]
     },
     "execution_count": 27,
     "metadata": {},
     "output_type": "execute_result"
    }
   ],
   "source": [
    "mydatasub.head(3)"
   ]
  },
  {
   "cell_type": "code",
   "execution_count": 28,
   "metadata": {},
   "outputs": [
    {
     "data": {
      "text/html": [
       "<div>\n",
       "<style scoped>\n",
       "    .dataframe tbody tr th:only-of-type {\n",
       "        vertical-align: middle;\n",
       "    }\n",
       "\n",
       "    .dataframe tbody tr th {\n",
       "        vertical-align: top;\n",
       "    }\n",
       "\n",
       "    .dataframe thead th {\n",
       "        text-align: right;\n",
       "    }\n",
       "</style>\n",
       "<table border=\"1\" class=\"dataframe\">\n",
       "  <thead>\n",
       "    <tr style=\"text-align: right;\">\n",
       "      <th></th>\n",
       "      <th>review_month</th>\n",
       "      <th>words_in_review</th>\n",
       "    </tr>\n",
       "  </thead>\n",
       "  <tbody>\n",
       "    <tr>\n",
       "      <th>count</th>\n",
       "      <td>20000.00000</td>\n",
       "      <td>20000.000000</td>\n",
       "    </tr>\n",
       "    <tr>\n",
       "      <th>mean</th>\n",
       "      <td>6.42805</td>\n",
       "      <td>90.276300</td>\n",
       "    </tr>\n",
       "    <tr>\n",
       "      <th>std</th>\n",
       "      <td>3.18701</td>\n",
       "      <td>93.063638</td>\n",
       "    </tr>\n",
       "    <tr>\n",
       "      <th>min</th>\n",
       "      <td>1.00000</td>\n",
       "      <td>0.000000</td>\n",
       "    </tr>\n",
       "    <tr>\n",
       "      <th>25%</th>\n",
       "      <td>4.00000</td>\n",
       "      <td>45.000000</td>\n",
       "    </tr>\n",
       "    <tr>\n",
       "      <th>50%</th>\n",
       "      <td>6.00000</td>\n",
       "      <td>61.000000</td>\n",
       "    </tr>\n",
       "    <tr>\n",
       "      <th>75%</th>\n",
       "      <td>9.00000</td>\n",
       "      <td>101.000000</td>\n",
       "    </tr>\n",
       "    <tr>\n",
       "      <th>max</th>\n",
       "      <td>12.00000</td>\n",
       "      <td>2497.000000</td>\n",
       "    </tr>\n",
       "  </tbody>\n",
       "</table>\n",
       "</div>"
      ],
      "text/plain": [
       "       review_month  words_in_review\n",
       "count   20000.00000     20000.000000\n",
       "mean        6.42805        90.276300\n",
       "std         3.18701        93.063638\n",
       "min         1.00000         0.000000\n",
       "25%         4.00000        45.000000\n",
       "50%         6.00000        61.000000\n",
       "75%         9.00000       101.000000\n",
       "max        12.00000      2497.000000"
      ]
     },
     "execution_count": 28,
     "metadata": {},
     "output_type": "execute_result"
    }
   ],
   "source": [
    "mydatasub.describe()"
   ]
  }
 ],
 "metadata": {
  "kernelspec": {
   "display_name": "base",
   "language": "python",
   "name": "python3"
  },
  "language_info": {
   "codemirror_mode": {
    "name": "ipython",
    "version": 3
   },
   "file_extension": ".py",
   "mimetype": "text/x-python",
   "name": "python",
   "nbconvert_exporter": "python",
   "pygments_lexer": "ipython3",
   "version": "3.9.7"
  },
  "orig_nbformat": 4
 },
 "nbformat": 4,
 "nbformat_minor": 2
}
